{
 "cells": [
  {
   "cell_type": "code",
   "execution_count": 2,
   "metadata": {},
   "outputs": [],
   "source": [
    "import pandas as pd\n",
    "\n",
    "#longline-ll, pl-pole and line, ps-purse seine\n",
    "ll = pd.read_csv('L_SKJ_1.csv', header=None)\n",
    "pl = pd.read_csv('P_SKJ_1.csv', header=None)\n",
    "ps = pd.read_csv('S_SKJ_1.csv', header=None)\n"
   ]
  },
  {
   "cell_type": "code",
   "execution_count": 3,
   "metadata": {},
   "outputs": [],
   "source": [
    "custom_headers = [\n",
    "    \"Gear\", \"Flag\", \"Year\", \"Region\", \"Annual-Catch-Estimate\", \n",
    "    \"Aggregate-Data-Area\", \"Aggregate-Data-Time\", \"Aggregate-Data-catch-recs\", \n",
    "    \"Operational-Data-catch-recs\", \"Length-Data-Area1\", \"Length-Data-Time1\", \n",
    "    \"Length-Data-Size-int1\", \"Length-Data-Samples1\", \"Length-Data-Area2\", \n",
    "    \"Length-Data-Time2\", \"Length-Data-Size-int2\", \"Length-Data-Samples2\"\n",
    "]\n",
    "\n",
    "ll.columns = custom_headers\n",
    "pl.columns = custom_headers\n",
    "ps.columns = custom_headers\n"
   ]
  },
  {
   "cell_type": "code",
   "execution_count": 4,
   "metadata": {},
   "outputs": [
    {
     "data": {
      "text/html": [
       "<div>\n",
       "<style scoped>\n",
       "    .dataframe tbody tr th:only-of-type {\n",
       "        vertical-align: middle;\n",
       "    }\n",
       "\n",
       "    .dataframe tbody tr th {\n",
       "        vertical-align: top;\n",
       "    }\n",
       "\n",
       "    .dataframe thead th {\n",
       "        text-align: right;\n",
       "    }\n",
       "</style>\n",
       "<table border=\"1\" class=\"dataframe\">\n",
       "  <thead>\n",
       "    <tr style=\"text-align: right;\">\n",
       "      <th></th>\n",
       "      <th>Gear</th>\n",
       "      <th>Flag</th>\n",
       "      <th>Year</th>\n",
       "      <th>Region</th>\n",
       "      <th>Annual-Catch-Estimate</th>\n",
       "      <th>Aggregate-Data-Area</th>\n",
       "      <th>Aggregate-Data-Time</th>\n",
       "      <th>Aggregate-Data-catch-recs</th>\n",
       "      <th>Operational-Data-catch-recs</th>\n",
       "      <th>Length-Data-Area1</th>\n",
       "      <th>Length-Data-Time1</th>\n",
       "      <th>Length-Data-Size-int1</th>\n",
       "      <th>Length-Data-Samples1</th>\n",
       "      <th>Length-Data-Area2</th>\n",
       "      <th>Length-Data-Time2</th>\n",
       "      <th>Length-Data-Size-int2</th>\n",
       "      <th>Length-Data-Samples2</th>\n",
       "    </tr>\n",
       "  </thead>\n",
       "  <tbody>\n",
       "    <tr>\n",
       "      <th>0</th>\n",
       "      <td>L</td>\n",
       "      <td>AU</td>\n",
       "      <td>1989</td>\n",
       "      <td>WCPFC</td>\n",
       "      <td>43</td>\n",
       "      <td>5x5</td>\n",
       "      <td>MON</td>\n",
       "      <td>24</td>\n",
       "      <td>92</td>\n",
       "      <td>5x5</td>\n",
       "      <td>MON</td>\n",
       "      <td>1</td>\n",
       "      <td>2</td>\n",
       "      <td>...</td>\n",
       "      <td>...</td>\n",
       "      <td>...</td>\n",
       "      <td>0</td>\n",
       "    </tr>\n",
       "    <tr>\n",
       "      <th>1</th>\n",
       "      <td>L</td>\n",
       "      <td>AU</td>\n",
       "      <td>1990</td>\n",
       "      <td>WCPFC</td>\n",
       "      <td>63</td>\n",
       "      <td>5x5</td>\n",
       "      <td>MON</td>\n",
       "      <td>29</td>\n",
       "      <td>170</td>\n",
       "      <td>5x5</td>\n",
       "      <td>MON</td>\n",
       "      <td>1</td>\n",
       "      <td>53</td>\n",
       "      <td>...</td>\n",
       "      <td>...</td>\n",
       "      <td>...</td>\n",
       "      <td>0</td>\n",
       "    </tr>\n",
       "    <tr>\n",
       "      <th>2</th>\n",
       "      <td>L</td>\n",
       "      <td>AU</td>\n",
       "      <td>1991</td>\n",
       "      <td>WCPFC</td>\n",
       "      <td>66</td>\n",
       "      <td>5x5</td>\n",
       "      <td>MON</td>\n",
       "      <td>35</td>\n",
       "      <td>221</td>\n",
       "      <td>5x5</td>\n",
       "      <td>MON</td>\n",
       "      <td>1</td>\n",
       "      <td>147</td>\n",
       "      <td>...</td>\n",
       "      <td>...</td>\n",
       "      <td>...</td>\n",
       "      <td>0</td>\n",
       "    </tr>\n",
       "    <tr>\n",
       "      <th>3</th>\n",
       "      <td>L</td>\n",
       "      <td>AU</td>\n",
       "      <td>1992</td>\n",
       "      <td>WCPFC</td>\n",
       "      <td>62</td>\n",
       "      <td>5x5</td>\n",
       "      <td>MON</td>\n",
       "      <td>42</td>\n",
       "      <td>353</td>\n",
       "      <td>5x5</td>\n",
       "      <td>MON</td>\n",
       "      <td>1</td>\n",
       "      <td>118</td>\n",
       "      <td>...</td>\n",
       "      <td>...</td>\n",
       "      <td>...</td>\n",
       "      <td>0</td>\n",
       "    </tr>\n",
       "    <tr>\n",
       "      <th>4</th>\n",
       "      <td>L</td>\n",
       "      <td>AU</td>\n",
       "      <td>1993</td>\n",
       "      <td>WCPFC</td>\n",
       "      <td>5</td>\n",
       "      <td>5x5</td>\n",
       "      <td>MON</td>\n",
       "      <td>44</td>\n",
       "      <td>302</td>\n",
       "      <td>5x5</td>\n",
       "      <td>MON</td>\n",
       "      <td>1</td>\n",
       "      <td>118</td>\n",
       "      <td>...</td>\n",
       "      <td>...</td>\n",
       "      <td>...</td>\n",
       "      <td>0</td>\n",
       "    </tr>\n",
       "  </tbody>\n",
       "</table>\n",
       "</div>"
      ],
      "text/plain": [
       "  Gear Flag  Year Region  Annual-Catch-Estimate Aggregate-Data-Area  \\\n",
       "0    L   AU  1989  WCPFC                     43                 5x5   \n",
       "1    L   AU  1990  WCPFC                     63                 5x5   \n",
       "2    L   AU  1991  WCPFC                     66                 5x5   \n",
       "3    L   AU  1992  WCPFC                     62                 5x5   \n",
       "4    L   AU  1993  WCPFC                      5                 5x5   \n",
       "\n",
       "  Aggregate-Data-Time  Aggregate-Data-catch-recs  Operational-Data-catch-recs  \\\n",
       "0                 MON                         24                           92   \n",
       "1                 MON                         29                          170   \n",
       "2                 MON                         35                          221   \n",
       "3                 MON                         42                          353   \n",
       "4                 MON                         44                          302   \n",
       "\n",
       "  Length-Data-Area1 Length-Data-Time1 Length-Data-Size-int1  \\\n",
       "0               5x5               MON                     1   \n",
       "1               5x5               MON                     1   \n",
       "2               5x5               MON                     1   \n",
       "3               5x5               MON                     1   \n",
       "4               5x5               MON                     1   \n",
       "\n",
       "   Length-Data-Samples1 Length-Data-Area2 Length-Data-Time2  \\\n",
       "0                     2               ...               ...   \n",
       "1                    53               ...               ...   \n",
       "2                   147               ...               ...   \n",
       "3                   118               ...               ...   \n",
       "4                   118               ...               ...   \n",
       "\n",
       "  Length-Data-Size-int2  Length-Data-Samples2  \n",
       "0                   ...                     0  \n",
       "1                   ...                     0  \n",
       "2                   ...                     0  \n",
       "3                   ...                     0  \n",
       "4                   ...                     0  "
      ]
     },
     "execution_count": 4,
     "metadata": {},
     "output_type": "execute_result"
    }
   ],
   "source": [
    "import numpy as np\n",
    "\n",
    "# List of columns to apply the transformation to\n",
    "columns_to_convert = [\n",
    "    'Annual-Catch-Estimate', 'Aggregate-Data-catch-recs', \n",
    "    'Operational-Data-catch-recs', 'Length-Data-Samples1', 'Length-Data-Samples2'\n",
    "]\n",
    "\n",
    "# Replace commas, then replace any non-numeric values with NaN and convert to integers\n",
    "ll[columns_to_convert] = ll[columns_to_convert].replace({',': ''}, regex=True)\n",
    "\n",
    "# Convert to numeric, setting errors='coerce' will turn non-numeric values into NaN\n",
    "ll[columns_to_convert] = ll[columns_to_convert].apply(pd.to_numeric, errors='coerce')\n",
    "\n",
    "# Optionally, you can fill NaNs with a default value, like 0\n",
    "ll[columns_to_convert] = ll[columns_to_convert].fillna(0).astype(int)\n",
    "ll.head()\n"
   ]
  },
  {
   "cell_type": "code",
   "execution_count": 5,
   "metadata": {},
   "outputs": [
    {
     "data": {
      "text/html": [
       "<div>\n",
       "<style scoped>\n",
       "    .dataframe tbody tr th:only-of-type {\n",
       "        vertical-align: middle;\n",
       "    }\n",
       "\n",
       "    .dataframe tbody tr th {\n",
       "        vertical-align: top;\n",
       "    }\n",
       "\n",
       "    .dataframe thead th {\n",
       "        text-align: right;\n",
       "    }\n",
       "</style>\n",
       "<table border=\"1\" class=\"dataframe\">\n",
       "  <thead>\n",
       "    <tr style=\"text-align: right;\">\n",
       "      <th></th>\n",
       "      <th>Gear</th>\n",
       "      <th>Flag</th>\n",
       "      <th>Year</th>\n",
       "      <th>Region</th>\n",
       "      <th>Annual-Catch-Estimate</th>\n",
       "      <th>Aggregate-Data-Area</th>\n",
       "      <th>Aggregate-Data-Time</th>\n",
       "      <th>Aggregate-Data-catch-recs</th>\n",
       "      <th>Operational-Data-catch-recs</th>\n",
       "      <th>Length-Data-Area1</th>\n",
       "      <th>Length-Data-Time1</th>\n",
       "      <th>Length-Data-Size-int1</th>\n",
       "      <th>Length-Data-Samples1</th>\n",
       "      <th>Length-Data-Area2</th>\n",
       "      <th>Length-Data-Time2</th>\n",
       "      <th>Length-Data-Size-int2</th>\n",
       "      <th>Length-Data-Samples2</th>\n",
       "    </tr>\n",
       "  </thead>\n",
       "  <tbody>\n",
       "    <tr>\n",
       "      <th>0</th>\n",
       "      <td>P</td>\n",
       "      <td>FJ</td>\n",
       "      <td>1990</td>\n",
       "      <td>WCPFC</td>\n",
       "      <td>3196</td>\n",
       "      <td>1x1</td>\n",
       "      <td>MON</td>\n",
       "      <td>75</td>\n",
       "      <td>564</td>\n",
       "      <td>5x5</td>\n",
       "      <td>MON</td>\n",
       "      <td>1</td>\n",
       "      <td>5</td>\n",
       "      <td>...</td>\n",
       "      <td>...</td>\n",
       "      <td>...</td>\n",
       "      <td>0</td>\n",
       "    </tr>\n",
       "    <tr>\n",
       "      <th>1</th>\n",
       "      <td>P</td>\n",
       "      <td>FJ</td>\n",
       "      <td>1991</td>\n",
       "      <td>WCPFC</td>\n",
       "      <td>4458</td>\n",
       "      <td>1x1</td>\n",
       "      <td>MON</td>\n",
       "      <td>122</td>\n",
       "      <td>940</td>\n",
       "      <td>5x5</td>\n",
       "      <td>MON</td>\n",
       "      <td>1</td>\n",
       "      <td>100</td>\n",
       "      <td>...</td>\n",
       "      <td>...</td>\n",
       "      <td>...</td>\n",
       "      <td>0</td>\n",
       "    </tr>\n",
       "    <tr>\n",
       "      <th>2</th>\n",
       "      <td>P</td>\n",
       "      <td>FJ</td>\n",
       "      <td>1992</td>\n",
       "      <td>WCPFC</td>\n",
       "      <td>3705</td>\n",
       "      <td>1x1</td>\n",
       "      <td>MON</td>\n",
       "      <td>130</td>\n",
       "      <td>1154</td>\n",
       "      <td>5x5</td>\n",
       "      <td>MON</td>\n",
       "      <td>1</td>\n",
       "      <td>2824</td>\n",
       "      <td>...</td>\n",
       "      <td>...</td>\n",
       "      <td>...</td>\n",
       "      <td>0</td>\n",
       "    </tr>\n",
       "    <tr>\n",
       "      <th>3</th>\n",
       "      <td>P</td>\n",
       "      <td>FJ</td>\n",
       "      <td>1994</td>\n",
       "      <td>WCPFC</td>\n",
       "      <td>3379</td>\n",
       "      <td>1x1</td>\n",
       "      <td>MON</td>\n",
       "      <td>140</td>\n",
       "      <td>847</td>\n",
       "      <td>5x5</td>\n",
       "      <td>MON</td>\n",
       "      <td>1</td>\n",
       "      <td>1115</td>\n",
       "      <td>10x20</td>\n",
       "      <td>MON</td>\n",
       "      <td>1</td>\n",
       "      <td>490</td>\n",
       "    </tr>\n",
       "    <tr>\n",
       "      <th>4</th>\n",
       "      <td>P</td>\n",
       "      <td>FJ</td>\n",
       "      <td>1995</td>\n",
       "      <td>WCPFC</td>\n",
       "      <td>4319</td>\n",
       "      <td>1x1</td>\n",
       "      <td>MON</td>\n",
       "      <td>69</td>\n",
       "      <td>611</td>\n",
       "      <td>10x20</td>\n",
       "      <td>MON</td>\n",
       "      <td>1</td>\n",
       "      <td>1719</td>\n",
       "      <td>5x5</td>\n",
       "      <td>MON</td>\n",
       "      <td>1</td>\n",
       "      <td>1577</td>\n",
       "    </tr>\n",
       "  </tbody>\n",
       "</table>\n",
       "</div>"
      ],
      "text/plain": [
       "  Gear Flag  Year Region  Annual-Catch-Estimate Aggregate-Data-Area  \\\n",
       "0    P   FJ  1990  WCPFC                   3196                 1x1   \n",
       "1    P   FJ  1991  WCPFC                   4458                 1x1   \n",
       "2    P   FJ  1992  WCPFC                   3705                 1x1   \n",
       "3    P   FJ  1994  WCPFC                   3379                 1x1   \n",
       "4    P   FJ  1995  WCPFC                   4319                 1x1   \n",
       "\n",
       "  Aggregate-Data-Time  Aggregate-Data-catch-recs  Operational-Data-catch-recs  \\\n",
       "0                 MON                         75                          564   \n",
       "1                 MON                        122                          940   \n",
       "2                 MON                        130                         1154   \n",
       "3                 MON                        140                          847   \n",
       "4                 MON                         69                          611   \n",
       "\n",
       "  Length-Data-Area1 Length-Data-Time1 Length-Data-Size-int1  \\\n",
       "0               5x5               MON                     1   \n",
       "1               5x5               MON                     1   \n",
       "2               5x5               MON                     1   \n",
       "3               5x5               MON                     1   \n",
       "4             10x20               MON                     1   \n",
       "\n",
       "   Length-Data-Samples1 Length-Data-Area2 Length-Data-Time2  \\\n",
       "0                     5               ...               ...   \n",
       "1                   100               ...               ...   \n",
       "2                  2824               ...               ...   \n",
       "3                  1115             10x20               MON   \n",
       "4                  1719               5x5               MON   \n",
       "\n",
       "  Length-Data-Size-int2  Length-Data-Samples2  \n",
       "0                   ...                     0  \n",
       "1                   ...                     0  \n",
       "2                   ...                     0  \n",
       "3                     1                   490  \n",
       "4                     1                  1577  "
      ]
     },
     "execution_count": 5,
     "metadata": {},
     "output_type": "execute_result"
    }
   ],
   "source": [
    "import numpy as np\n",
    "\n",
    "# List of columns to apply the transformation to\n",
    "columns_to_convert = [\n",
    "    'Annual-Catch-Estimate', 'Aggregate-Data-catch-recs', \n",
    "    'Operational-Data-catch-recs', 'Length-Data-Samples1', 'Length-Data-Samples2'\n",
    "]\n",
    "\n",
    "# Replace commas, then replace any non-numeric values with NaN and convert to integers\n",
    "pl[columns_to_convert] = pl[columns_to_convert].replace({',': ''}, regex=True)\n",
    "\n",
    "# Convert to numeric, setting errors='coerce' will turn non-numeric values into NaN\n",
    "pl[columns_to_convert] = pl[columns_to_convert].apply(pd.to_numeric, errors='coerce')\n",
    "\n",
    "# Optionally, you can fill NaNs with a default value, like 0\n",
    "pl[columns_to_convert] = pl[columns_to_convert].fillna(0).astype(int)\n",
    "pl.head()\n"
   ]
  },
  {
   "cell_type": "code",
   "execution_count": 6,
   "metadata": {},
   "outputs": [
    {
     "data": {
      "text/html": [
       "<div>\n",
       "<style scoped>\n",
       "    .dataframe tbody tr th:only-of-type {\n",
       "        vertical-align: middle;\n",
       "    }\n",
       "\n",
       "    .dataframe tbody tr th {\n",
       "        vertical-align: top;\n",
       "    }\n",
       "\n",
       "    .dataframe thead th {\n",
       "        text-align: right;\n",
       "    }\n",
       "</style>\n",
       "<table border=\"1\" class=\"dataframe\">\n",
       "  <thead>\n",
       "    <tr style=\"text-align: right;\">\n",
       "      <th></th>\n",
       "      <th>Gear</th>\n",
       "      <th>Flag</th>\n",
       "      <th>Year</th>\n",
       "      <th>Region</th>\n",
       "      <th>Annual-Catch-Estimate</th>\n",
       "      <th>Aggregate-Data-Area</th>\n",
       "      <th>Aggregate-Data-Time</th>\n",
       "      <th>Aggregate-Data-catch-recs</th>\n",
       "      <th>Operational-Data-catch-recs</th>\n",
       "      <th>Length-Data-Area1</th>\n",
       "      <th>Length-Data-Time1</th>\n",
       "      <th>Length-Data-Size-int1</th>\n",
       "      <th>Length-Data-Samples1</th>\n",
       "      <th>Length-Data-Area2</th>\n",
       "      <th>Length-Data-Time2</th>\n",
       "      <th>Length-Data-Size-int2</th>\n",
       "      <th>Length-Data-Samples2</th>\n",
       "    </tr>\n",
       "  </thead>\n",
       "  <tbody>\n",
       "    <tr>\n",
       "      <th>0</th>\n",
       "      <td>S</td>\n",
       "      <td>CK</td>\n",
       "      <td>2019</td>\n",
       "      <td>WCPFC</td>\n",
       "      <td>1715</td>\n",
       "      <td>1x1</td>\n",
       "      <td>MON</td>\n",
       "      <td>32</td>\n",
       "      <td>60</td>\n",
       "      <td>5x5</td>\n",
       "      <td>MON</td>\n",
       "      <td>1</td>\n",
       "      <td>1867</td>\n",
       "      <td>...</td>\n",
       "      <td>...</td>\n",
       "      <td>...</td>\n",
       "      <td>0</td>\n",
       "    </tr>\n",
       "    <tr>\n",
       "      <th>1</th>\n",
       "      <td>S</td>\n",
       "      <td>CK</td>\n",
       "      <td>2020</td>\n",
       "      <td>WCPFC</td>\n",
       "      <td>256</td>\n",
       "      <td>1x1</td>\n",
       "      <td>MON</td>\n",
       "      <td>12</td>\n",
       "      <td>14</td>\n",
       "      <td>5x5</td>\n",
       "      <td>MON</td>\n",
       "      <td>1</td>\n",
       "      <td>190</td>\n",
       "      <td>...</td>\n",
       "      <td>...</td>\n",
       "      <td>...</td>\n",
       "      <td>0</td>\n",
       "    </tr>\n",
       "    <tr>\n",
       "      <th>2</th>\n",
       "      <td>S</td>\n",
       "      <td>CK</td>\n",
       "      <td>2023</td>\n",
       "      <td>WCPFC</td>\n",
       "      <td>2366</td>\n",
       "      <td>1x1</td>\n",
       "      <td>MON</td>\n",
       "      <td>35</td>\n",
       "      <td>41</td>\n",
       "      <td>5x5</td>\n",
       "      <td>MON</td>\n",
       "      <td>1</td>\n",
       "      <td>616</td>\n",
       "      <td>...</td>\n",
       "      <td>...</td>\n",
       "      <td>...</td>\n",
       "      <td>0</td>\n",
       "    </tr>\n",
       "    <tr>\n",
       "      <th>3</th>\n",
       "      <td>S</td>\n",
       "      <td>CN</td>\n",
       "      <td>2002</td>\n",
       "      <td>WCPFC</td>\n",
       "      <td>6876</td>\n",
       "      <td>1x1</td>\n",
       "      <td>MON</td>\n",
       "      <td>154</td>\n",
       "      <td>221</td>\n",
       "      <td>5x5</td>\n",
       "      <td>MON</td>\n",
       "      <td>1</td>\n",
       "      <td>2739</td>\n",
       "      <td>...</td>\n",
       "      <td>...</td>\n",
       "      <td>...</td>\n",
       "      <td>0</td>\n",
       "    </tr>\n",
       "    <tr>\n",
       "      <th>4</th>\n",
       "      <td>S</td>\n",
       "      <td>CN</td>\n",
       "      <td>2003</td>\n",
       "      <td>WCPFC</td>\n",
       "      <td>18025</td>\n",
       "      <td>1x1</td>\n",
       "      <td>MON</td>\n",
       "      <td>387</td>\n",
       "      <td>291</td>\n",
       "      <td>10x20</td>\n",
       "      <td>MON</td>\n",
       "      <td>1</td>\n",
       "      <td>89</td>\n",
       "      <td>...</td>\n",
       "      <td>...</td>\n",
       "      <td>...</td>\n",
       "      <td>0</td>\n",
       "    </tr>\n",
       "  </tbody>\n",
       "</table>\n",
       "</div>"
      ],
      "text/plain": [
       "  Gear Flag  Year Region  Annual-Catch-Estimate Aggregate-Data-Area  \\\n",
       "0    S   CK  2019  WCPFC                   1715                 1x1   \n",
       "1    S   CK  2020  WCPFC                    256                 1x1   \n",
       "2    S   CK  2023  WCPFC                   2366                 1x1   \n",
       "3    S   CN  2002  WCPFC                   6876                 1x1   \n",
       "4    S   CN  2003  WCPFC                  18025                 1x1   \n",
       "\n",
       "  Aggregate-Data-Time  Aggregate-Data-catch-recs  Operational-Data-catch-recs  \\\n",
       "0                 MON                         32                           60   \n",
       "1                 MON                         12                           14   \n",
       "2                 MON                         35                           41   \n",
       "3                 MON                        154                          221   \n",
       "4                 MON                        387                          291   \n",
       "\n",
       "  Length-Data-Area1 Length-Data-Time1 Length-Data-Size-int1  \\\n",
       "0               5x5               MON                     1   \n",
       "1               5x5               MON                     1   \n",
       "2               5x5               MON                     1   \n",
       "3               5x5               MON                     1   \n",
       "4             10x20               MON                     1   \n",
       "\n",
       "   Length-Data-Samples1 Length-Data-Area2 Length-Data-Time2  \\\n",
       "0                  1867               ...               ...   \n",
       "1                   190               ...               ...   \n",
       "2                   616               ...               ...   \n",
       "3                  2739               ...               ...   \n",
       "4                    89               ...               ...   \n",
       "\n",
       "  Length-Data-Size-int2  Length-Data-Samples2  \n",
       "0                   ...                     0  \n",
       "1                   ...                     0  \n",
       "2                   ...                     0  \n",
       "3                   ...                     0  \n",
       "4                   ...                     0  "
      ]
     },
     "execution_count": 6,
     "metadata": {},
     "output_type": "execute_result"
    }
   ],
   "source": [
    "import numpy as np\n",
    "\n",
    "# List of columns to apply the transformation to\n",
    "columns_to_convert = [\n",
    "    'Annual-Catch-Estimate', 'Aggregate-Data-catch-recs', \n",
    "    'Operational-Data-catch-recs', 'Length-Data-Samples1', 'Length-Data-Samples2'\n",
    "]\n",
    "\n",
    "# Replace commas, then replace any non-numeric values with NaN and convert to integers\n",
    "ps[columns_to_convert] = ps[columns_to_convert].replace({',': ''}, regex=True)\n",
    "\n",
    "# Convert to numeric, setting errors='coerce' will turn non-numeric values into NaN\n",
    "ps[columns_to_convert] = ps[columns_to_convert].apply(pd.to_numeric, errors='coerce')\n",
    "\n",
    "# Optionally, you can fill NaNs with a default value, like 0\n",
    "ps[columns_to_convert] = ps[columns_to_convert].fillna(0).astype(int)\n",
    "ps.head()"
   ]
  },
  {
   "cell_type": "markdown",
   "metadata": {},
   "source": [
    "# Merge all into one df"
   ]
  },
  {
   "cell_type": "code",
   "execution_count": 7,
   "metadata": {},
   "outputs": [],
   "source": [
    "df = pd.concat([ll, pl, ps], ignore_index=True)"
   ]
  },
  {
   "cell_type": "markdown",
   "metadata": {},
   "source": [
    "#### Countries that catches the most fish over the years in this dataset"
   ]
  },
  {
   "cell_type": "code",
   "execution_count": 13,
   "metadata": {},
   "outputs": [
    {
     "data": {
      "text/plain": [
       "Gear\n",
       "L       2631\n",
       "P      89026\n",
       "S    1172791\n",
       "Name: Annual-Catch-Estimate, dtype: int64"
      ]
     },
     "execution_count": 13,
     "metadata": {},
     "output_type": "execute_result"
    }
   ],
   "source": [
    "df[df['Year']==2023]['Annual-Catch-Estimate'].groupby(df['Gear']).sum()"
   ]
  },
  {
   "cell_type": "code",
   "execution_count": 50,
   "metadata": {},
   "outputs": [
    {
     "data": {
      "text/plain": [
       "Flag\n",
       "JP       2178400\n",
       "KR        740074\n",
       "TW        458178\n",
       "CN        233628\n",
       "ID        147384\n",
       "US-HW     131586\n",
       "VN         55504\n",
       "VU         53389\n",
       "FM         36636\n",
       "FJ         25592\n",
       "Name: Annual-Catch-Estimate, dtype: int64"
      ]
     },
     "execution_count": 50,
     "metadata": {},
     "output_type": "execute_result"
    }
   ],
   "source": [
    "df.groupby(\"Flag\")[\"Annual-Catch-Estimate\"].sum().sort_values(ascending=False).head(10)"
   ]
  },
  {
   "cell_type": "markdown",
   "metadata": {},
   "source": [
    "#### Countries that catches the most skipjack tuna **IN 2023** with all types of gears"
   ]
  },
  {
   "cell_type": "code",
   "execution_count": 16,
   "metadata": {},
   "outputs": [
    {
     "data": {
      "text/plain": [
       "Flag\n",
       "KR    183280\n",
       "KI    179464\n",
       "JP    164606\n",
       "ID    147274\n",
       "FM    114626\n",
       "PG     93103\n",
       "NR     81333\n",
       "VN     58541\n",
       "MH     54881\n",
       "PH     45563\n",
       "Name: Annual-Catch-Estimate, dtype: int64"
      ]
     },
     "execution_count": 16,
     "metadata": {},
     "output_type": "execute_result"
    }
   ],
   "source": [
    "df[df['Year']==2023]['Annual-Catch-Estimate'].groupby(df['Flag']).sum().sort_values(ascending=False).head(10)"
   ]
  },
  {
   "cell_type": "markdown",
   "metadata": {},
   "source": [
    "#### TOP 5 countries efficiency"
   ]
  },
  {
   "cell_type": "code",
   "execution_count": 17,
   "metadata": {},
   "outputs": [
    {
     "data": {
      "text/plain": [
       "50.6858407079646"
      ]
     },
     "execution_count": 17,
     "metadata": {},
     "output_type": "execute_result"
    }
   ],
   "source": [
    "#korea efficency\n",
    "kr_recs = df[(df['Flag'] == 'KR') & (df['Year'] == 2023)]['Operational-Data-catch-recs'].sum()\n",
    "kr_fish = df[(df['Flag'] == 'KR') & (df['Year'] == 2023)]['Annual-Catch-Estimate'].sum()\n",
    "kr_fish/kr_recs"
   ]
  },
  {
   "cell_type": "code",
   "execution_count": 18,
   "metadata": {},
   "outputs": [
    {
     "data": {
      "text/plain": [
       "24.73318632855568"
      ]
     },
     "execution_count": 18,
     "metadata": {},
     "output_type": "execute_result"
    }
   ],
   "source": [
    "#Kiribati efficency\n",
    "ki_recs = df[(df['Flag'] == 'KI') & (df['Year'] == 2023)]['Operational-Data-catch-recs'].sum()\n",
    "ki_fish = df[(df['Flag'] == 'KI') & (df['Year'] == 2023)]['Annual-Catch-Estimate'].sum()\n",
    "ki_fish/ki_recs"
   ]
  },
  {
   "cell_type": "code",
   "execution_count": 20,
   "metadata": {},
   "outputs": [
    {
     "data": {
      "text/plain": [
       "52.87696755541278"
      ]
     },
     "execution_count": 20,
     "metadata": {},
     "output_type": "execute_result"
    }
   ],
   "source": [
    "#japan efficency\n",
    "jp_recs = df[(df['Flag'] == 'JP') & (df['Year'] == 2023)]['Operational-Data-catch-recs'].sum()\n",
    "jp_fish = df[(df['Flag'] == 'JP') & (df['Year'] == 2023)]['Annual-Catch-Estimate'].sum()\n",
    "jp_fish/jp_recs"
   ]
  },
  {
   "cell_type": "code",
   "execution_count": 19,
   "metadata": {},
   "outputs": [
    {
     "data": {
      "text/plain": [
       "10.16664365594367"
      ]
     },
     "execution_count": 19,
     "metadata": {},
     "output_type": "execute_result"
    }
   ],
   "source": [
    "#Indonesia efficency\n",
    "id_recs = df[(df['Flag'] == 'ID') & (df['Year'] == 2023)]['Operational-Data-catch-recs'].sum()\n",
    "id_fish = df[(df['Flag'] == 'ID') & (df['Year'] == 2023)]['Annual-Catch-Estimate'].sum()\n",
    "id_fish/id_recs"
   ]
  },
  {
   "cell_type": "code",
   "execution_count": 21,
   "metadata": {},
   "outputs": [
    {
     "data": {
      "text/plain": [
       "25.060341058154787"
      ]
     },
     "execution_count": 21,
     "metadata": {},
     "output_type": "execute_result"
    }
   ],
   "source": [
    "#Micronesia efficency\n",
    "fm_recs = df[(df['Flag'] == 'FM') & (df['Year'] == 2023)]['Operational-Data-catch-recs'].sum()\n",
    "fm_fish = df[(df['Flag'] == 'FM') & (df['Year'] == 2023)]['Annual-Catch-Estimate'].sum()\n",
    "fm_fish/fm_recs"
   ]
  },
  {
   "cell_type": "markdown",
   "metadata": {},
   "source": [
    "#### Average efficiency"
   ]
  },
  {
   "cell_type": "code",
   "execution_count": 24,
   "metadata": {},
   "outputs": [
    {
     "data": {
      "text/plain": [
       "16.337170691370467"
      ]
     },
     "execution_count": 24,
     "metadata": {},
     "output_type": "execute_result"
    }
   ],
   "source": [
    "recs_2023 = df[df['Year'] == 2023]['Operational-Data-catch-recs'].sum()\n",
    "fish_2023 = df[df['Year'] == 2023]['Annual-Catch-Estimate'].sum()\n",
    "\n",
    "fish_2023/recs_2023"
   ]
  },
  {
   "cell_type": "code",
   "execution_count": 8,
   "metadata": {},
   "outputs": [],
   "source": [
    "df.to_csv('skj-tuna.csv', index=False)"
   ]
  }
 ],
 "metadata": {
  "kernelspec": {
   "display_name": "Python 3",
   "language": "python",
   "name": "python3"
  },
  "language_info": {
   "codemirror_mode": {
    "name": "ipython",
    "version": 3
   },
   "file_extension": ".py",
   "mimetype": "text/x-python",
   "name": "python",
   "nbconvert_exporter": "python",
   "pygments_lexer": "ipython3",
   "version": "3.12.7"
  }
 },
 "nbformat": 4,
 "nbformat_minor": 2
}
